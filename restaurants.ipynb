{
 "cells": [
  {
   "cell_type": "code",
   "execution_count": 3,
   "id": "41149338-191c-4488-9eaa-e44a8926cc4a",
   "metadata": {},
   "outputs": [],
   "source": [
    "import pandas as pd\n",
    "import numpy as np\n",
    "import matplotlib.pyplot as plt\n",
    "import seaborn as sns"
   ]
  },
  {
   "cell_type": "code",
   "execution_count": 4,
   "id": "a0206060-d802-4f7e-a5bd-e5aaee23be40",
   "metadata": {},
   "outputs": [],
   "source": [
    "df = pd.read_csv(\"C:/Users/dell/Downloads/R.csv\")\n",
    "\n",
    "\n",
    "\n",
    "\n"
   ]
  },
  {
   "cell_type": "code",
   "execution_count": 5,
   "id": "7e288940-520a-4125-b0fe-655d26aea190",
   "metadata": {},
   "outputs": [
    {
     "data": {
      "text/html": [
       "<div>\n",
       "<style scoped>\n",
       "    .dataframe tbody tr th:only-of-type {\n",
       "        vertical-align: middle;\n",
       "    }\n",
       "\n",
       "    .dataframe tbody tr th {\n",
       "        vertical-align: top;\n",
       "    }\n",
       "\n",
       "    .dataframe thead th {\n",
       "        text-align: right;\n",
       "    }\n",
       "</style>\n",
       "<table border=\"1\" class=\"dataframe\">\n",
       "  <thead>\n",
       "    <tr style=\"text-align: right;\">\n",
       "      <th></th>\n",
       "      <th>Restaurant ID</th>\n",
       "      <th>Restaurant Name</th>\n",
       "      <th>Country Code</th>\n",
       "      <th>City</th>\n",
       "      <th>Address</th>\n",
       "      <th>Locality</th>\n",
       "      <th>Locality Verbose</th>\n",
       "      <th>Longitude</th>\n",
       "      <th>Latitude</th>\n",
       "      <th>Cuisines</th>\n",
       "      <th>...</th>\n",
       "      <th>Currency</th>\n",
       "      <th>Has Table booking</th>\n",
       "      <th>Has Online delivery</th>\n",
       "      <th>Is delivering now</th>\n",
       "      <th>Switch to order menu</th>\n",
       "      <th>Price range</th>\n",
       "      <th>Aggregate rating</th>\n",
       "      <th>Rating color</th>\n",
       "      <th>Rating text</th>\n",
       "      <th>Votes</th>\n",
       "    </tr>\n",
       "  </thead>\n",
       "  <tbody>\n",
       "    <tr>\n",
       "      <th>0</th>\n",
       "      <td>6317637</td>\n",
       "      <td>Le Petit Souffle</td>\n",
       "      <td>162</td>\n",
       "      <td>Makati City</td>\n",
       "      <td>Third Floor, Century City Mall, Kalayaan Avenu...</td>\n",
       "      <td>Century City Mall, Poblacion, Makati City</td>\n",
       "      <td>Century City Mall, Poblacion, Makati City, Mak...</td>\n",
       "      <td>121.027535</td>\n",
       "      <td>14.565443</td>\n",
       "      <td>French, Japanese, Desserts</td>\n",
       "      <td>...</td>\n",
       "      <td>Botswana Pula(P)</td>\n",
       "      <td>Yes</td>\n",
       "      <td>No</td>\n",
       "      <td>No</td>\n",
       "      <td>No</td>\n",
       "      <td>3</td>\n",
       "      <td>4.8</td>\n",
       "      <td>Dark Green</td>\n",
       "      <td>Excellent</td>\n",
       "      <td>314</td>\n",
       "    </tr>\n",
       "    <tr>\n",
       "      <th>1</th>\n",
       "      <td>6304287</td>\n",
       "      <td>Izakaya Kikufuji</td>\n",
       "      <td>162</td>\n",
       "      <td>Makati City</td>\n",
       "      <td>Little Tokyo, 2277 Chino Roces Avenue, Legaspi...</td>\n",
       "      <td>Little Tokyo, Legaspi Village, Makati City</td>\n",
       "      <td>Little Tokyo, Legaspi Village, Makati City, Ma...</td>\n",
       "      <td>121.014101</td>\n",
       "      <td>14.553708</td>\n",
       "      <td>Japanese</td>\n",
       "      <td>...</td>\n",
       "      <td>Botswana Pula(P)</td>\n",
       "      <td>Yes</td>\n",
       "      <td>No</td>\n",
       "      <td>No</td>\n",
       "      <td>No</td>\n",
       "      <td>3</td>\n",
       "      <td>4.5</td>\n",
       "      <td>Dark Green</td>\n",
       "      <td>Excellent</td>\n",
       "      <td>591</td>\n",
       "    </tr>\n",
       "    <tr>\n",
       "      <th>2</th>\n",
       "      <td>6300002</td>\n",
       "      <td>Heat - Edsa Shangri-La</td>\n",
       "      <td>162</td>\n",
       "      <td>Mandaluyong City</td>\n",
       "      <td>Edsa Shangri-La, 1 Garden Way, Ortigas, Mandal...</td>\n",
       "      <td>Edsa Shangri-La, Ortigas, Mandaluyong City</td>\n",
       "      <td>Edsa Shangri-La, Ortigas, Mandaluyong City, Ma...</td>\n",
       "      <td>121.056831</td>\n",
       "      <td>14.581404</td>\n",
       "      <td>Seafood, Asian, Filipino, Indian</td>\n",
       "      <td>...</td>\n",
       "      <td>Botswana Pula(P)</td>\n",
       "      <td>Yes</td>\n",
       "      <td>No</td>\n",
       "      <td>No</td>\n",
       "      <td>No</td>\n",
       "      <td>4</td>\n",
       "      <td>4.4</td>\n",
       "      <td>Green</td>\n",
       "      <td>Very Good</td>\n",
       "      <td>270</td>\n",
       "    </tr>\n",
       "    <tr>\n",
       "      <th>3</th>\n",
       "      <td>6318506</td>\n",
       "      <td>Ooma</td>\n",
       "      <td>162</td>\n",
       "      <td>Mandaluyong City</td>\n",
       "      <td>Third Floor, Mega Fashion Hall, SM Megamall, O...</td>\n",
       "      <td>SM Megamall, Ortigas, Mandaluyong City</td>\n",
       "      <td>SM Megamall, Ortigas, Mandaluyong City, Mandal...</td>\n",
       "      <td>121.056475</td>\n",
       "      <td>14.585318</td>\n",
       "      <td>Japanese, Sushi</td>\n",
       "      <td>...</td>\n",
       "      <td>Botswana Pula(P)</td>\n",
       "      <td>No</td>\n",
       "      <td>No</td>\n",
       "      <td>No</td>\n",
       "      <td>No</td>\n",
       "      <td>4</td>\n",
       "      <td>4.9</td>\n",
       "      <td>Dark Green</td>\n",
       "      <td>Excellent</td>\n",
       "      <td>365</td>\n",
       "    </tr>\n",
       "    <tr>\n",
       "      <th>4</th>\n",
       "      <td>6314302</td>\n",
       "      <td>Sambo Kojin</td>\n",
       "      <td>162</td>\n",
       "      <td>Mandaluyong City</td>\n",
       "      <td>Third Floor, Mega Atrium, SM Megamall, Ortigas...</td>\n",
       "      <td>SM Megamall, Ortigas, Mandaluyong City</td>\n",
       "      <td>SM Megamall, Ortigas, Mandaluyong City, Mandal...</td>\n",
       "      <td>121.057508</td>\n",
       "      <td>14.584450</td>\n",
       "      <td>Japanese, Korean</td>\n",
       "      <td>...</td>\n",
       "      <td>Botswana Pula(P)</td>\n",
       "      <td>Yes</td>\n",
       "      <td>No</td>\n",
       "      <td>No</td>\n",
       "      <td>No</td>\n",
       "      <td>4</td>\n",
       "      <td>4.8</td>\n",
       "      <td>Dark Green</td>\n",
       "      <td>Excellent</td>\n",
       "      <td>229</td>\n",
       "    </tr>\n",
       "  </tbody>\n",
       "</table>\n",
       "<p>5 rows × 21 columns</p>\n",
       "</div>"
      ],
      "text/plain": [
       "   Restaurant ID         Restaurant Name  Country Code              City  \\\n",
       "0        6317637        Le Petit Souffle           162       Makati City   \n",
       "1        6304287        Izakaya Kikufuji           162       Makati City   \n",
       "2        6300002  Heat - Edsa Shangri-La           162  Mandaluyong City   \n",
       "3        6318506                    Ooma           162  Mandaluyong City   \n",
       "4        6314302             Sambo Kojin           162  Mandaluyong City   \n",
       "\n",
       "                                             Address  \\\n",
       "0  Third Floor, Century City Mall, Kalayaan Avenu...   \n",
       "1  Little Tokyo, 2277 Chino Roces Avenue, Legaspi...   \n",
       "2  Edsa Shangri-La, 1 Garden Way, Ortigas, Mandal...   \n",
       "3  Third Floor, Mega Fashion Hall, SM Megamall, O...   \n",
       "4  Third Floor, Mega Atrium, SM Megamall, Ortigas...   \n",
       "\n",
       "                                     Locality  \\\n",
       "0   Century City Mall, Poblacion, Makati City   \n",
       "1  Little Tokyo, Legaspi Village, Makati City   \n",
       "2  Edsa Shangri-La, Ortigas, Mandaluyong City   \n",
       "3      SM Megamall, Ortigas, Mandaluyong City   \n",
       "4      SM Megamall, Ortigas, Mandaluyong City   \n",
       "\n",
       "                                    Locality Verbose   Longitude   Latitude  \\\n",
       "0  Century City Mall, Poblacion, Makati City, Mak...  121.027535  14.565443   \n",
       "1  Little Tokyo, Legaspi Village, Makati City, Ma...  121.014101  14.553708   \n",
       "2  Edsa Shangri-La, Ortigas, Mandaluyong City, Ma...  121.056831  14.581404   \n",
       "3  SM Megamall, Ortigas, Mandaluyong City, Mandal...  121.056475  14.585318   \n",
       "4  SM Megamall, Ortigas, Mandaluyong City, Mandal...  121.057508  14.584450   \n",
       "\n",
       "                           Cuisines  ...          Currency Has Table booking  \\\n",
       "0        French, Japanese, Desserts  ...  Botswana Pula(P)               Yes   \n",
       "1                          Japanese  ...  Botswana Pula(P)               Yes   \n",
       "2  Seafood, Asian, Filipino, Indian  ...  Botswana Pula(P)               Yes   \n",
       "3                   Japanese, Sushi  ...  Botswana Pula(P)                No   \n",
       "4                  Japanese, Korean  ...  Botswana Pula(P)               Yes   \n",
       "\n",
       "  Has Online delivery Is delivering now Switch to order menu Price range  \\\n",
       "0                  No                No                   No           3   \n",
       "1                  No                No                   No           3   \n",
       "2                  No                No                   No           4   \n",
       "3                  No                No                   No           4   \n",
       "4                  No                No                   No           4   \n",
       "\n",
       "   Aggregate rating  Rating color Rating text Votes  \n",
       "0               4.8    Dark Green   Excellent   314  \n",
       "1               4.5    Dark Green   Excellent   591  \n",
       "2               4.4         Green   Very Good   270  \n",
       "3               4.9    Dark Green   Excellent   365  \n",
       "4               4.8    Dark Green   Excellent   229  \n",
       "\n",
       "[5 rows x 21 columns]"
      ]
     },
     "execution_count": 5,
     "metadata": {},
     "output_type": "execute_result"
    }
   ],
   "source": [
    "df.head()"
   ]
  },
  {
   "cell_type": "markdown",
   "id": "0f088364-68b4-43d6-912b-28ed484574d4",
   "metadata": {},
   "source": [
    "#Task: Top Cuisines"
   ]
  },
  {
   "cell_type": "markdown",
   "id": "5cc4ab9c-7bb0-4cde-9447-9343284d00aa",
   "metadata": {},
   "source": [
    "#Determine the top Five most\n",
    "common cuisines in the dataset."
   ]
  },
  {
   "cell_type": "code",
   "execution_count": 6,
   "id": "97e0876b-5122-4cfd-b69d-13849bc9bfd1",
   "metadata": {},
   "outputs": [
    {
     "name": "stdout",
     "output_type": "stream",
     "text": [
      "Top 3 Cuisines:\n",
      "Cuisines\n",
      "North Indian    3960\n",
      "Chinese         2735\n",
      "Fast Food       1986\n",
      "Mughlai          995\n",
      "Italian          764\n",
      "Name: count, dtype: int64\n"
     ]
    }
   ],
   "source": [
    "top_cuisines = (\n",
    "    df['Cuisines']\n",
    "    .dropna()                \n",
    "    .str.split(',')       \n",
    "    .explode()               \n",
    "    .str.strip()           \n",
    "    .value_counts()        \n",
    "    .head(5)                \n",
    ")\n",
    "print(\"Top 3 Cuisines:\")\n",
    "print(top_cuisines)"
   ]
  },
  {
   "cell_type": "markdown",
   "id": "b19d0819-056f-4596-8122-4a32b44ac99e",
   "metadata": {},
   "source": [
    "#Calculate the percentage of restaurants that serve each of the topcuisines."
   ]
  },
  {
   "cell_type": "code",
   "execution_count": 7,
   "id": "45c5be71-db99-448f-9c1f-40c88052d60b",
   "metadata": {},
   "outputs": [
    {
     "name": "stdout",
     "output_type": "stream",
     "text": [
      "Top Cuisines Percentage:\n",
      "Cuisines\n",
      "North Indian    41.461627\n",
      "Chinese         28.635745\n",
      "Fast Food       20.793634\n",
      "Mughlai         10.417757\n",
      "Italian          7.999162\n",
      "Name: count, dtype: float64\n"
     ]
    }
   ],
   "source": [
    "top_cuisines = (\n",
    "    df['Cuisines']\n",
    "    .dropna()\n",
    "    .str.split(',')\n",
    "    .explode()\n",
    "    .str.strip()\n",
    "    .value_counts()\n",
    "    .head(5)\n",
    ")\n",
    "total_restaurants = len(df)\n",
    "top_cuisines_percentage = (top_cuisines / total_restaurants) * 100\n",
    "\n",
    "print(\"Top Cuisines Percentage:\")\n",
    "print(top_cuisines_percentage)"
   ]
  },
  {
   "cell_type": "markdown",
   "id": "a373b675-5bfa-4d0e-85cb-03542f2c61d3",
   "metadata": {},
   "source": [
    "#Task: City Analysis"
   ]
  },
  {
   "cell_type": "markdown",
   "id": "730929d0-c062-488d-9c1d-b713a24c90ba",
   "metadata": {},
   "source": [
    "##Identify the city with the highest number of restaurants in the dataset."
   ]
  },
  {
   "cell_type": "code",
   "execution_count": 8,
   "id": "bf2e6397-081d-4c2b-b5b3-71a7a6a4df6b",
   "metadata": {},
   "outputs": [
    {
     "name": "stdout",
     "output_type": "stream",
     "text": [
      "City with the highest number of restaurants:\n",
      "City\n",
      "New Delhi    5473\n",
      "Gurgaon      1118\n",
      "Noida        1080\n",
      "Faridabad     251\n",
      "Ghaziabad      25\n",
      "Name: count, dtype: int64\n"
     ]
    }
   ],
   "source": [
    "top_city = df['City'].value_counts().head(5)\n",
    "\n",
    "print(\"City with the highest number of restaurants:\")\n",
    "print(top_city)"
   ]
  },
  {
   "cell_type": "markdown",
   "id": "dd0beedb-e6a2-4837-9cc4-af1b4d991753",
   "metadata": {},
   "source": [
    "##Calculate the average rating for restaurants in each city.\n"
   ]
  },
  {
   "cell_type": "code",
   "execution_count": 9,
   "id": "6dc61053-cce1-43e4-9227-b30b76e18d65",
   "metadata": {},
   "outputs": [
    {
     "name": "stdout",
     "output_type": "stream",
     "text": [
      "Average rating for restaurants in each city:\n",
      "City\n",
      "Inner City          4.900000\n",
      "Quezon City         4.800000\n",
      "Makati City         4.650000\n",
      "Pasig City          4.633333\n",
      "Mandaluyong City    4.625000\n",
      "                      ...   \n",
      "New Delhi           2.438845\n",
      "Montville           2.400000\n",
      "Mc Millan           2.400000\n",
      "Noida               2.036204\n",
      "Faridabad           1.866932\n",
      "Name: Aggregate rating, Length: 141, dtype: float64\n"
     ]
    }
   ],
   "source": [
    "avg_rating_per_city = df.groupby('City')['Aggregate rating'].mean().sort_values(ascending=False)\n",
    "\n",
    "print(\"Average rating for restaurants in each city:\")\n",
    "print(avg_rating_per_city)"
   ]
  },
  {
   "cell_type": "code",
   "execution_count": 33,
   "id": "f3f1491e-2820-4563-b757-fbf53643248a",
   "metadata": {},
   "outputs": [],
   "source": [
    "# Determine the city with the highest average rating.\n"
   ]
  },
  {
   "cell_type": "code",
   "execution_count": 10,
   "id": "93f729a5-2e30-4cf3-aa84-6fd320d60384",
   "metadata": {},
   "outputs": [
    {
     "name": "stdout",
     "output_type": "stream",
     "text": [
      "City with the highest average rating: Inner City (4.90)\n"
     ]
    }
   ],
   "source": [
    "\n",
    "avg_rating_per_city = df.groupby('City')['Aggregate rating'].mean()\n",
    "\n",
    "\n",
    "top_avg_rating_city = avg_rating_per_city.idxmax()\n",
    "top_avg_rating_value = avg_rating_per_city.max()\n",
    "\n",
    "print(f\"City with the highest average rating: {top_avg_rating_city} ({top_avg_rating_value:.2f})\")\n"
   ]
  },
  {
   "cell_type": "code",
   "execution_count": 11,
   "id": "87b92895-0ae8-4a10-aa06-d51185c39c9c",
   "metadata": {},
   "outputs": [
    {
     "name": "stdout",
     "output_type": "stream",
     "text": [
      "City/Cities with highest average rating:\n",
      "Inner City: 4.9\n"
     ]
    }
   ],
   "source": [
    "df[\"Aggregate rating\"] = pd.to_numeric(df[\"Aggregate rating\"], errors=\"coerce\")\n",
    "df = df.dropna(subset=[\"Aggregate rating\"])\n",
    "avg_by_city = df.groupby(\"City\")[\"Aggregate rating\"].mean().round(2)\n",
    "max_avg = avg_by_city.max()\n",
    "top_cities = avg_by_city[avg_by_city == max_avg].sort_index()\n",
    "print(\"City/Cities with highest average rating:\")\n",
    "for city, rating in top_cities.items():\n",
    "    print(f\"{city}: {rating}\")"
   ]
  },
  {
   "cell_type": "markdown",
   "id": "87b8f351-1a85-48ef-bd8a-a27f52c9fe28",
   "metadata": {},
   "source": [
    "#task3"
   ]
  },
  {
   "cell_type": "markdown",
   "id": "a336c4ee-c42a-4471-ba69-3ecbd449b564",
   "metadata": {},
   "source": [
    "#Create a histogram or bar chart to visualize the distribution of price ranges among the restaurants."
   ]
  },
  {
   "cell_type": "code",
   "execution_count": 20,
   "id": "d9ac5c81-0ded-456d-8fbd-769457570a52",
   "metadata": {},
   "outputs": [
    {
     "data": {
      "image/png": "[encoded data removed]",
      "text/plain": [
       "<Figure size 1000x600 with 1 Axes>"
      ]
     },
     "metadata": {},
     "output_type": "display_data"
    }
   ],
   "source": [
    "price_counts = df[\"Price range\"].value_counts().sort_index()\n",
    "\n",
    "\n",
    "plt.figure(figsize=(10, 6))\n",
    "plt.bar(price_counts.index.astype(str), price_counts.values, color=\"skyblue\", edgecolor=\"black\")\n",
    "plt.xlabel(\"Price Range\")\n",
    "plt.ylabel(\"Number of Restaurants\")\n",
    "plt.title(\"Distribution of Price Ranges Among Restaurants\")\n",
    "\n",
    "\n",
    "for i, val in enumerate(price_counts.values):\n",
    "    plt.text(i, val + 5, str(val), ha='center')\n",
    "\n",
    "plt.show()"
   ]
  },
  {
   "cell_type": "markdown",
   "id": "af9ca841-4e19-4538-bf84-9b1732b245e1",
   "metadata": {},
   "source": [
    "#Calculate the percentage of restaurants in each price range category.\n"
   ]
  },
  {
   "cell_type": "code",
   "execution_count": 22,
   "id": "fc1f7b9f-37a0-4938-bdc9-af7d906a8797",
   "metadata": {},
   "outputs": [
    {
     "name": "stdout",
     "output_type": "stream",
     "text": [
      "   Price Range  Percentage\n",
      "0            1       46.53\n",
      "1            2       32.59\n",
      "2            3       14.74\n",
      "3            4        6.14\n"
     ]
    }
   ],
   "source": [
    "price_percentage = (df[\"Price range\"].value_counts(normalize=True) * 100).round(2)\n",
    "\n",
    "\n",
    "price_percentage_df = price_percentage.reset_index()\n",
    "price_percentage_df.columns = [\"Price Range\", \"Percentage\"]\n",
    "\n",
    "print(price_percentage_df)\n"
   ]
  },
  {
   "cell_type": "markdown",
   "id": "a23af4e3-3e94-4c26-8db8-b00a5da4665a",
   "metadata": {},
   "source": [
    "##Task: Online Delivery\n"
   ]
  },
  {
   "cell_type": "markdown",
   "id": "b299305e-94e1-44fe-bc48-2de10187b666",
   "metadata": {},
   "source": [
    "#Determine the percentage of restaurants that offer online delivery."
   ]
  },
  {
   "cell_type": "code",
   "execution_count": 23,
   "id": "e1a4aca9-9987-476d-aec7-5432a9b9b880",
   "metadata": {},
   "outputs": [
    {
     "name": "stdout",
     "output_type": "stream",
     "text": [
      "Percentage of restaurants offering online delivery:\n",
      "Has Online delivery\n",
      "No     74.34\n",
      "Yes    25.66\n",
      "Name: proportion, dtype: float64\n"
     ]
    }
   ],
   "source": [
    "\n",
    "online_delivery_percentage = (df[\"Has Online delivery\"].str.strip().value_counts(normalize=True) * 100).round(2)\n",
    "\n",
    "print(\"Percentage of restaurants offering online delivery:\")\n",
    "print(online_delivery_percentage)"
   ]
  },
  {
   "cell_type": "markdown",
   "id": "e2d2c5f8-d434-44ec-80dd-699a8b45cd18",
   "metadata": {},
   "source": [
    "#Compare the average ratings of restaurants with and without online delivery.\n"
   ]
  },
  {
   "cell_type": "code",
   "execution_count": 24,
   "id": "4e2b2ff2-2e85-49f0-beda-aa2e148d64a1",
   "metadata": {},
   "outputs": [
    {
     "name": "stdout",
     "output_type": "stream",
     "text": [
      "Average ratings of restaurants with/without online delivery:\n",
      "Has Online delivery\n",
      "No     2.47\n",
      "Yes    3.25\n",
      "Name: Aggregate rating, dtype: float64\n"
     ]
    }
   ],
   "source": [
    "df[\"Aggregate rating\"] = pd.to_numeric(df[\"Aggregate rating\"], errors=\"coerce\")\n",
    "# Compare average ratings based on online delivery availability\n",
    "avg_rating_comparison = df.groupby(\"Has Online delivery\")[\"Aggregate rating\"].mean().round(2)\n",
    "\n",
    "print(\"Average ratings of restaurants with/without online delivery:\")\n",
    "print(avg_rating_comparison)"
   ]
  },
  {
   "cell_type": "markdown",
   "id": "30f32c98-1f2d-4c37-8e88-889e0ae602b4",
   "metadata": {},
   "source": [
    "##Task: Restaurant Ratings\n"
   ]
  },
  {
   "cell_type": "markdown",
   "id": "adae3c97-503d-4fe0-945c-9b279eeba04c",
   "metadata": {},
   "source": [
    "#Analyze the distribution of aggregate ratings and determine the most common rating range."
   ]
  },
  {
   "cell_type": "code",
   "execution_count": 28,
   "id": "97a9275d-52a7-4d44-b92a-e6daa7cbc917",
   "metadata": {},
   "outputs": [
    {
     "name": "stdout",
     "output_type": "stream",
     "text": [
      "Distribution of Aggregate Ratings:\n",
      "Rating Range\n",
      "0-1    2148\n",
      "1-2      10\n",
      "2-3    1891\n",
      "3-4    4388\n",
      "4-5    1114\n",
      "Name: count, dtype: int64\n",
      "\n",
      "Most common rating range: 3-4\n"
     ]
    },
    {
     "data": {
      "image/png": "[encoded data removed]",
      "text/plain": [
       "<Figure size 800x600 with 1 Axes>"
      ]
     },
     "metadata": {},
     "output_type": "display_data"
    }
   ],
   "source": [
    "\n",
    "df[\"Aggregate rating\"] = pd.to_numeric(df[\"Aggregate rating\"], errors=\"coerce\")\n",
    "bins = [0, 1, 2, 3, 4, 5]\n",
    "labels = [\"0-1\", \"1-2\", \"2-3\", \"3-4\", \"4-5\"]\n",
    "df[\"Rating Range\"] = pd.cut(df[\"Aggregate rating\"], bins=bins, labels=labels, include_lowest=True)\n",
    "rating_distribution = df[\"Rating Range\"].value_counts().sort_index()\n",
    "most_common_range = rating_distribution.idxmax()\n",
    "print(\"Distribution of Aggregate Ratings:\")\n",
    "print(rating_distribution)\n",
    "print(\"\\nMost common rating range:\", most_common_range)\n",
    "plt.figure(figsize=(8,6))\n",
    "plt.bar(rating_distribution.index.astype(str), rating_distribution.values, color=\"yellow\", edgecolor=\"black\")\n",
    "plt.xlabel(\"Rating Range\")\n",
    "plt.ylabel(\"Number of Restaurants\")\n",
    "plt.title(\"Distribution of Aggregate Ratings\")\n",
    "plt.show()\n"
   ]
  },
  {
   "attachments": {},
   "cell_type": "markdown",
   "id": "d2644a61-b020-421e-9859-0aeec798cc9e",
   "metadata": {},
   "source": [
    "#Calculate the average number of votes received by restaurants.\n"
   ]
  },
  {
   "cell_type": "code",
   "execution_count": 40,
   "id": "41a65a3b-5429-4325-a579-4bc3b889bb27",
   "metadata": {},
   "outputs": [
    {
     "name": "stdout",
     "output_type": "stream",
     "text": [
      "Average number of votes received by restaurants: 156.91\n"
     ]
    }
   ],
   "source": [
    "df[\"Votes\"] = pd.to_numeric(df[\"Votes\"], errors=\"coerce\")\n",
    "\n",
    "avg_votes = df[\"Votes\"].mean().round(2)\n",
    "\n",
    "print(\"Average number of votes received by restaurants:\", avg_votes)"
   ]
  },
  {
   "cell_type": "markdown",
   "id": "2d66b604-5752-4dc2-b457-1fc1ee6f124f",
   "metadata": {},
   "source": [
    "##Task: Cuisine Combination\n"
   ]
  },
  {
   "cell_type": "markdown",
   "id": "96fd2c5c-2e35-4751-9a37-9df2511d7e5b",
   "metadata": {},
   "source": [
    "#Identify the most common combinations of cuisines in the dataset."
   ]
  },
  {
   "cell_type": "code",
   "execution_count": 42,
   "id": "564a2d0c-259d-4cdd-bec8-c431e307c9b1",
   "metadata": {},
   "outputs": [
    {
     "name": "stdout",
     "output_type": "stream",
     "text": [
      "Most common cuisine combinations:\n",
      "Cuisines\n",
      "North Indian                      936\n",
      "North Indian, Chinese             511\n",
      "Fast Food                         354\n",
      "Chinese                           354\n",
      "North Indian, Mughlai             334\n",
      "Cafe                              299\n",
      "Bakery                            218\n",
      "North Indian, Mughlai, Chinese    197\n",
      "Bakery, Desserts                  170\n",
      "Street Food                       149\n",
      "Name: count, dtype: int64\n"
     ]
    }
   ],
   "source": [
    "df[\"Cuisines\"] = df[\"Cuisines\"].astype(str).str.strip()\n",
    "\n",
    "\n",
    "common_cuisines = df[\"Cuisines\"].value_counts().head(10)\n",
    "\n",
    "print(\"Most common cuisine combinations:\")\n",
    "print(common_cuisines)"
   ]
  },
  {
   "cell_type": "markdown",
   "id": "52792890-c6d4-4a81-af85-2007bbacbe69",
   "metadata": {},
   "source": [
    "#Determine if certain cuisine combinations tend to have higher ratings."
   ]
  },
  {
   "cell_type": "code",
   "execution_count": 48,
   "id": "c66d7a72-5f23-4312-8020-e5f5db09c6c5",
   "metadata": {},
   "outputs": [
    {
     "name": "stdout",
     "output_type": "stream",
     "text": [
      "Cuisine combinations with highest average ratings:\n",
      "Cuisines\n",
      "Italian, Deli                            4.900\n",
      "American, Coffee and Tea                 4.900\n",
      "American, BBQ, Sandwich                  4.900\n",
      "BBQ, Breakfast, Southern                 4.900\n",
      "Italian, Bakery, Continental             4.900\n",
      "American, Burger, Grill                  4.900\n",
      "Hawaiian, Seafood                        4.900\n",
      "Mexican, American, Healthy Food          4.900\n",
      "American, Caribbean, Seafood             4.900\n",
      "Mughlai, Lucknowi                        4.900\n",
      "European, Contemporary                   4.900\n",
      "European, German                         4.900\n",
      "American, Sandwich, Tea                  4.900\n",
      "European, Asian, Indian                  4.900\n",
      "Burger, Bar Food, Steak                  4.900\n",
      "World Cuisine                            4.900\n",
      "Sunda, Indonesian                        4.900\n",
      "Continental, Indian                      4.900\n",
      "Filipino, Mexican                        4.850\n",
      "Contemporary, Italian                    4.800\n",
      "Continental, Middle Eastern, Asian       4.800\n",
      "European, Mediterranean, North Indian    4.800\n",
      "Indian, Continental                      4.800\n",
      "French, Japanese, Desserts               4.800\n",
      "International, Italian, Southern         4.800\n",
      "Beverages, International                 4.800\n",
      "Italian, American, Pizza                 4.800\n",
      "Chinese, Dim Sum                         4.750\n",
      "Indian, North Indian                     4.733\n",
      "African                                  4.700\n",
      "Name: Aggregate rating, dtype: float64\n"
     ]
    }
   ],
   "source": [
    "df[\"Aggregate rating\"] = pd.to_numeric(df[\"Aggregate rating\"], errors=\"coerce\")\n",
    "\n",
    "# Clean Cuisines column (remove extra spaces)\n",
    "df[\"Cuisines\"] = df[\"Cuisines\"].astype(str).str.strip()\n",
    "\n",
    "# Group by cuisine combinations and calculate average rating\n",
    "cuisine_rating = (\n",
    "    df.groupby(\"Cuisines\")[\"Aggregate rating\"]\n",
    "    .mean()\n",
    "    .round(3)\n",
    "    .sort_values(ascending=False)\n",
    ")\n",
    "print(\"Cuisine combinations with highest average ratings:\")\n",
    "print(cuisine_rating.head(30))"
   ]
  },
  {
   "cell_type": "markdown",
   "id": "62d07ec5-978f-4580-839b-e1a179196108",
   "metadata": {},
   "source": [
    "#Task: Geographic Analysis"
   ]
  },
  {
   "cell_type": "markdown",
   "id": "8a00edb9-17ff-4a19-b888-f7a44ed91831",
   "metadata": {},
   "source": [
    "#Plot the locations of restaurants on a map using longitude and latitude coordinates."
   ]
  },
  {
   "cell_type": "code",
   "execution_count": 50,
   "id": "ab4af419-aa44-4a2d-a458-963ed0784038",
   "metadata": {},
   "outputs": [
    {
     "data": {
      "image/png": "[encoded data removed]",
      "text/plain": [
       "<Figure size 1000x800 with 1 Axes>"
      ]
     },
     "metadata": {},
     "output_type": "display_data"
    }
   ],
   "source": [
    "longitudes = pd.to_numeric(df[\"Longitude\"], errors=\"coerce\")\n",
    "latitudes = pd.to_numeric(df[\"Latitude\"], errors=\"coerce\")\n",
    "\n",
    "# Scatter plot of restaurant locations\n",
    "plt.figure(figsize=(10, 8))\n",
    "plt.scatter(longitudes, latitudes, alpha=0.5, s=10, c=\"red\")\n",
    "plt.xlabel(\"Longitude\")\n",
    "plt.ylabel(\"Latitude\")\n",
    "plt.title(\"Restaurant Locations by Coordinates\")\n",
    "plt.show()"
   ]
  },
  {
   "cell_type": "markdown",
   "id": "1b4f3bb1-fdb5-4db0-930b-4c2cfa2f3ad6",
   "metadata": {},
   "source": [
    "#Identify any patterns or clusters of restaurants in specific areas."
   ]
  },
  {
   "cell_type": "code",
   "execution_count": 56,
   "id": "a2654e6d-c551-49b5-94da-078c8fef702d",
   "metadata": {},
   "outputs": [
    {
     "data": {
      "image/png": "[encoded data removed]",
      "text/plain": [
       "<Figure size 1000x800 with 1 Axes>"
      ]
     },
     "metadata": {},
     "output_type": "display_data"
    }
   ],
   "source": [
    "longitudes = pd.to_numeric(df[\"Longitude\"], errors=\"coerce\")\n",
    "latitudes = pd.to_numeric(df[\"Latitude\"], errors=\"coerce\")\n",
    "\n",
    "# Scatter plot\n",
    "plt.figure(figsize=(10,8))\n",
    "plt.scatter(longitudes, latitudes, alpha=0.4, s=10, c=\"blue\")\n",
    "plt.xlabel(\"Longitude\")\n",
    "plt.ylabel(\"Latitude\")\n",
    "plt.title(\"Restaurant Locations - Visual Clusters\")\n",
    "plt.show()\n"
   ]
  },
  {
   "cell_type": "markdown",
   "id": "3e96945f-74ce-4152-8445-e2faa99448fe",
   "metadata": {},
   "source": [
    "#Task: Restaurant Chains"
   ]
  },
  {
   "cell_type": "markdown",
   "id": "af2959c0-7268-49db-8a61-091308167a26",
   "metadata": {},
   "source": [
    "#Identify if there are any restaurant chains present in the dataset."
   ]
  },
  {
   "cell_type": "code",
   "execution_count": 61,
   "id": "60b56c1f-7574-454c-aac4-d7de50e6411d",
   "metadata": {},
   "outputs": [
    {
     "name": "stdout",
     "output_type": "stream",
     "text": [
      "Collecting scikit-learn\n",
      "  Downloading scikit_learn-1.7.1-cp311-cp311-win_amd64.whl.metadata (11 kB)\n",
      "Requirement already satisfied: numpy>=1.22.0 in c:\\users\\dell\\appdata\\local\\programs\\python\\python311\\lib\\site-packages (from scikit-learn) (2.3.2)\n",
      "Collecting scipy>=1.8.0 (from scikit-learn)\n",
      "  Downloading scipy-1.16.1-cp311-cp311-win_amd64.whl.metadata (60 kB)\n",
      "Collecting joblib>=1.2.0 (from scikit-learn)\n",
      "  Downloading joblib-1.5.1-py3-none-any.whl.metadata (5.6 kB)\n",
      "Collecting threadpoolctl>=3.1.0 (from scikit-learn)\n",
      "  Downloading threadpoolctl-3.6.0-py3-none-any.whl.metadata (13 kB)\n",
      "Downloading scikit_learn-1.7.1-cp311-cp311-win_amd64.whl (8.9 MB)\n",
      "   ---------------------------------------- 0.0/8.9 MB ? eta -:--:--\n",
      "   ---------------------------------------- 0.0/8.9 MB ? eta -:--:--\n",
      "   ---------------------------------------- 0.0/8.9 MB ? eta -:--:--\n",
      "   ---------------------------------------- 0.0/8.9 MB ? eta -:--:--\n",
      "   - -------------------------------------- 0.3/8.9 MB ? eta -:--:--\n",
      "   - -------------------------------------- 0.3/8.9 MB ? eta -:--:--\n",
      "   - -------------------------------------- 0.3/8.9 MB ? eta -:--:--\n",
      "   - -------------------------------------- 0.3/8.9 MB ? eta -:--:--\n",
      "   - -------------------------------------- 0.3/8.9 MB ? eta -:--:--\n",
      "   - -------------------------------------- 0.3/8.9 MB ? eta -:--:--\n",
      "   -- ------------------------------------- 0.5/8.9 MB 215.0 kB/s eta 0:00:40\n",
      "   -- ------------------------------------- 0.5/8.9 MB 215.0 kB/s eta 0:00:40\n",
      "   --- ------------------------------------ 0.8/8.9 MB 325.8 kB/s eta 0:00:25\n",
      "   --- ------------------------------------ 0.8/8.9 MB 325.8 kB/s eta 0:00:25\n",
      "   ---- ----------------------------------- 1.0/8.9 MB 384.2 kB/s eta 0:00:21\n",
      "   ---- ----------------------------------- 1.0/8.9 MB 384.2 kB/s eta 0:00:21\n",
      "   ----- ---------------------------------- 1.3/8.9 MB 419.4 kB/s eta 0:00:19\n",
      "   ----- ---------------------------------- 1.3/8.9 MB 419.4 kB/s eta 0:00:19\n",
      "   ------- -------------------------------- 1.6/8.9 MB 463.5 kB/s eta 0:00:16\n",
      "   -------- ------------------------------- 1.8/8.9 MB 493.5 kB/s eta 0:00:15\n",
      "   -------- ------------------------------- 1.8/8.9 MB 493.5 kB/s eta 0:00:15\n",
      "   --------- ------------------------------ 2.1/8.9 MB 515.2 kB/s eta 0:00:14\n",
      "   ---------- ----------------------------- 2.4/8.9 MB 550.1 kB/s eta 0:00:12\n",
      "   ----------- ---------------------------- 2.6/8.9 MB 583.0 kB/s eta 0:00:11\n",
      "   ------------ --------------------------- 2.9/8.9 MB 605.7 kB/s eta 0:00:10\n",
      "   ------------ --------------------------- 2.9/8.9 MB 605.7 kB/s eta 0:00:10\n",
      "   -------------- ------------------------- 3.1/8.9 MB 619.3 kB/s eta 0:00:10\n",
      "   --------------- ------------------------ 3.4/8.9 MB 641.2 kB/s eta 0:00:09\n",
      "   ---------------- ----------------------- 3.7/8.9 MB 671.1 kB/s eta 0:00:08\n",
      "   ----------------- ---------------------- 3.9/8.9 MB 690.9 kB/s eta 0:00:08\n",
      "   ------------------ --------------------- 4.2/8.9 MB 702.9 kB/s eta 0:00:07\n",
      "   ------------------ --------------------- 4.2/8.9 MB 702.9 kB/s eta 0:00:07\n",
      "   --------------------- ------------------ 4.7/8.9 MB 731.3 kB/s eta 0:00:06\n",
      "   --------------------- ------------------ 4.7/8.9 MB 731.3 kB/s eta 0:00:06\n",
      "   --------------------- ------------------ 4.7/8.9 MB 731.3 kB/s eta 0:00:06\n",
      "   ---------------------- ----------------- 5.0/8.9 MB 715.6 kB/s eta 0:00:06\n",
      "   ---------------------- ----------------- 5.0/8.9 MB 715.6 kB/s eta 0:00:06\n",
      "   ---------------------- ----------------- 5.0/8.9 MB 715.6 kB/s eta 0:00:06\n",
      "   ----------------------- ---------------- 5.2/8.9 MB 676.8 kB/s eta 0:00:06\n",
      "   ----------------------- ---------------- 5.2/8.9 MB 676.8 kB/s eta 0:00:06\n",
      "   ------------------------ --------------- 5.5/8.9 MB 676.5 kB/s eta 0:00:06\n",
      "   ------------------------- -------------- 5.8/8.9 MB 690.8 kB/s eta 0:00:05\n",
      "   --------------------------- ------------ 6.0/8.9 MB 705.7 kB/s eta 0:00:05\n",
      "   ---------------------------- ----------- 6.3/8.9 MB 721.3 kB/s eta 0:00:04\n",
      "   ----------------------------- ---------- 6.6/8.9 MB 737.5 kB/s eta 0:00:04\n",
      "   ------------------------------ --------- 6.8/8.9 MB 742.4 kB/s eta 0:00:03\n",
      "   ------------------------------- -------- 7.1/8.9 MB 753.4 kB/s eta 0:00:03\n",
      "   -------------------------------- ------- 7.3/8.9 MB 770.4 kB/s eta 0:00:03\n",
      "   ---------------------------------- ----- 7.6/8.9 MB 779.0 kB/s eta 0:00:02\n",
      "   ----------------------------------- ---- 7.9/8.9 MB 792.4 kB/s eta 0:00:02\n",
      "   ------------------------------------ --- 8.1/8.9 MB 804.0 kB/s eta 0:00:01\n",
      "   ------------------------------------- -- 8.4/8.9 MB 811.3 kB/s eta 0:00:01\n",
      "   -------------------------------------- - 8.7/8.9 MB 814.7 kB/s eta 0:00:01\n",
      "   ---------------------------------------- 8.9/8.9 MB 818.0 kB/s  0:00:11\n",
      "Downloading joblib-1.5.1-py3-none-any.whl (307 kB)\n",
      "Downloading scipy-1.16.1-cp311-cp311-win_amd64.whl (38.6 MB)\n",
      "   ---------------------------------------- 0.0/38.6 MB ? eta -:--:--\n",
      "   ---------------------------------------- 0.0/38.6 MB ? eta -:--:--\n",
      "   ---------------------------------------- 0.3/38.6 MB ? eta -:--:--\n",
      "   ---------------------------------------- 0.3/38.6 MB ? eta -:--:--\n",
      "    --------------------------------------- 0.5/38.6 MB 799.2 kB/s eta 0:00:48\n",
      "    --------------------------------------- 0.8/38.6 MB 780.2 kB/s eta 0:00:49\n",
      "   - -------------------------------------- 1.0/38.6 MB 868.0 kB/s eta 0:00:44\n",
      "   - -------------------------------------- 1.0/38.6 MB 868.0 kB/s eta 0:00:44\n",
      "   - -------------------------------------- 1.3/38.6 MB 860.2 kB/s eta 0:00:44\n",
      "   - -------------------------------------- 1.6/38.6 MB 892.3 kB/s eta 0:00:42\n",
      "   - -------------------------------------- 1.8/38.6 MB 958.5 kB/s eta 0:00:39\n",
      "   -- ------------------------------------- 2.1/38.6 MB 970.4 kB/s eta 0:00:38\n",
      "   -- ------------------------------------- 2.4/38.6 MB 958.5 kB/s eta 0:00:38\n",
      "   -- ------------------------------------- 2.4/38.6 MB 958.5 kB/s eta 0:00:38\n",
      "   -- ------------------------------------- 2.6/38.6 MB 932.2 kB/s eta 0:00:39\n",
      "   --- ------------------------------------ 3.1/38.6 MB 992.3 kB/s eta 0:00:36\n",
      "   --- ------------------------------------ 3.4/38.6 MB 1.0 MB/s eta 0:00:35\n",
      "   --- ------------------------------------ 3.7/38.6 MB 1.0 MB/s eta 0:00:35\n",
      "   ---- ----------------------------------- 3.9/38.6 MB 1.0 MB/s eta 0:00:34\n",
      "   ---- ----------------------------------- 3.9/38.6 MB 1.0 MB/s eta 0:00:34\n",
      "   ---- ----------------------------------- 4.2/38.6 MB 1.0 MB/s eta 0:00:34\n",
      "   ---- ----------------------------------- 4.5/38.6 MB 1.0 MB/s eta 0:00:34\n",
      "   ---- ----------------------------------- 4.7/38.6 MB 1.0 MB/s eta 0:00:34\n",
      "   ----- ---------------------------------- 5.0/38.6 MB 1.0 MB/s eta 0:00:33\n",
      "   ----- ---------------------------------- 5.0/38.6 MB 1.0 MB/s eta 0:00:33\n",
      "   ----- ---------------------------------- 5.2/38.6 MB 1.0 MB/s eta 0:00:34\n",
      "   ----- ---------------------------------- 5.5/38.6 MB 1.0 MB/s eta 0:00:33\n",
      "   ----- ---------------------------------- 5.8/38.6 MB 1.0 MB/s eta 0:00:32\n",
      "   ------ --------------------------------- 6.3/38.6 MB 1.1 MB/s eta 0:00:31\n",
      "   ------ --------------------------------- 6.6/38.6 MB 1.1 MB/s eta 0:00:30\n",
      "   ------- -------------------------------- 6.8/38.6 MB 1.1 MB/s eta 0:00:30\n",
      "   ------- -------------------------------- 7.1/38.6 MB 1.1 MB/s eta 0:00:30\n",
      "   ------- -------------------------------- 7.1/38.6 MB 1.1 MB/s eta 0:00:30\n",
      "   ------- -------------------------------- 7.3/38.6 MB 1.1 MB/s eta 0:00:30\n",
      "   ------- -------------------------------- 7.6/38.6 MB 1.1 MB/s eta 0:00:29\n",
      "   -------- ------------------------------- 7.9/38.6 MB 1.1 MB/s eta 0:00:29\n",
      "   -------- ------------------------------- 8.1/38.6 MB 1.1 MB/s eta 0:00:29\n",
      "   -------- ------------------------------- 8.4/38.6 MB 1.1 MB/s eta 0:00:28\n",
      "   -------- ------------------------------- 8.7/38.6 MB 1.1 MB/s eta 0:00:28\n",
      "   --------- ------------------------------ 8.9/38.6 MB 1.1 MB/s eta 0:00:28\n",
      "   --------- ------------------------------ 9.4/38.6 MB 1.1 MB/s eta 0:00:27\n",
      "   ---------- ----------------------------- 9.7/38.6 MB 1.1 MB/s eta 0:00:26\n",
      "   ---------- ----------------------------- 10.0/38.6 MB 1.1 MB/s eta 0:00:26\n",
      "   ---------- ----------------------------- 10.2/38.6 MB 1.1 MB/s eta 0:00:26\n",
      "   ---------- ----------------------------- 10.5/38.6 MB 1.1 MB/s eta 0:00:25\n",
      "   ----------- ---------------------------- 10.7/38.6 MB 1.1 MB/s eta 0:00:25\n",
      "   ----------- ---------------------------- 11.0/38.6 MB 1.1 MB/s eta 0:00:25\n",
      "   ----------- ---------------------------- 11.3/38.6 MB 1.2 MB/s eta 0:00:24\n",
      "   ----------- ---------------------------- 11.5/38.6 MB 1.2 MB/s eta 0:00:24\n",
      "   ------------ --------------------------- 11.8/38.6 MB 1.1 MB/s eta 0:00:24\n",
      "   ------------ --------------------------- 12.1/38.6 MB 1.1 MB/s eta 0:00:24\n",
      "   ------------ --------------------------- 12.3/38.6 MB 1.1 MB/s eta 0:00:24\n",
      "   ------------- -------------------------- 12.6/38.6 MB 1.1 MB/s eta 0:00:23\n",
      "   ------------- -------------------------- 12.8/38.6 MB 1.2 MB/s eta 0:00:23\n",
      "   ------------- -------------------------- 13.4/38.6 MB 1.2 MB/s eta 0:00:22\n",
      "   ------------- -------------------------- 13.4/38.6 MB 1.2 MB/s eta 0:00:22\n",
      "   -------------- ------------------------- 13.6/38.6 MB 1.2 MB/s eta 0:00:22\n",
      "   -------------- ------------------------- 13.9/38.6 MB 1.2 MB/s eta 0:00:22\n",
      "   -------------- ------------------------- 14.2/38.6 MB 1.2 MB/s eta 0:00:22\n",
      "   -------------- ------------------------- 14.2/38.6 MB 1.2 MB/s eta 0:00:22\n",
      "   -------------- ------------------------- 14.4/38.6 MB 1.2 MB/s eta 0:00:22\n",
      "   --------------- ------------------------ 14.7/38.6 MB 1.2 MB/s eta 0:00:21\n",
      "   --------------- ------------------------ 15.2/38.6 MB 1.2 MB/s eta 0:00:21\n",
      "   ---------------- ----------------------- 15.5/38.6 MB 1.2 MB/s eta 0:00:20\n",
      "   ---------------- ----------------------- 15.7/38.6 MB 1.2 MB/s eta 0:00:20\n",
      "   ---------------- ----------------------- 16.0/38.6 MB 1.2 MB/s eta 0:00:20\n",
      "   ---------------- ----------------------- 16.3/38.6 MB 1.2 MB/s eta 0:00:20\n",
      "   ----------------- ---------------------- 16.5/38.6 MB 1.2 MB/s eta 0:00:19\n",
      "   ----------------- ---------------------- 16.8/38.6 MB 1.2 MB/s eta 0:00:19\n",
      "   ----------------- ---------------------- 16.8/38.6 MB 1.2 MB/s eta 0:00:19\n",
      "   ----------------- ---------------------- 17.0/38.6 MB 1.2 MB/s eta 0:00:19\n",
      "   ----------------- ---------------------- 17.3/38.6 MB 1.2 MB/s eta 0:00:19\n",
      "   ------------------ --------------------- 17.6/38.6 MB 1.2 MB/s eta 0:00:19\n",
      "   ------------------ --------------------- 17.6/38.6 MB 1.2 MB/s eta 0:00:19\n",
      "   ------------------ --------------------- 17.8/38.6 MB 1.2 MB/s eta 0:00:19\n",
      "   ------------------ --------------------- 18.1/38.6 MB 1.1 MB/s eta 0:00:19\n",
      "   ------------------ --------------------- 18.4/38.6 MB 1.1 MB/s eta 0:00:18\n",
      "   ------------------- -------------------- 18.6/38.6 MB 1.1 MB/s eta 0:00:18\n",
      "   ------------------- -------------------- 18.9/38.6 MB 1.1 MB/s eta 0:00:18\n",
      "   ------------------- -------------------- 18.9/38.6 MB 1.1 MB/s eta 0:00:18\n",
      "   ------------------- -------------------- 19.1/38.6 MB 1.1 MB/s eta 0:00:18\n",
      "   -------------------- ------------------- 19.4/38.6 MB 1.1 MB/s eta 0:00:17\n",
      "   -------------------- ------------------- 19.7/38.6 MB 1.1 MB/s eta 0:00:17\n",
      "   -------------------- ------------------- 19.9/38.6 MB 1.1 MB/s eta 0:00:17\n",
      "   -------------------- ------------------- 20.2/38.6 MB 1.1 MB/s eta 0:00:17\n",
      "   --------------------- ------------------ 20.4/38.6 MB 1.1 MB/s eta 0:00:17\n",
      "   --------------------- ------------------ 20.4/38.6 MB 1.1 MB/s eta 0:00:17\n",
      "   --------------------- ------------------ 21.0/38.6 MB 1.1 MB/s eta 0:00:16\n",
      "   --------------------- ------------------ 21.0/38.6 MB 1.1 MB/s eta 0:00:16\n",
      "   --------------------- ------------------ 21.2/38.6 MB 1.1 MB/s eta 0:00:16\n",
      "   ---------------------- ----------------- 21.5/38.6 MB 1.1 MB/s eta 0:00:16\n",
      "   ---------------------- ----------------- 21.5/38.6 MB 1.1 MB/s eta 0:00:16\n",
      "   ---------------------- ----------------- 22.0/38.6 MB 1.1 MB/s eta 0:00:15\n",
      "   ----------------------- ---------------- 22.3/38.6 MB 1.1 MB/s eta 0:00:15\n",
      "   ----------------------- ---------------- 22.5/38.6 MB 1.1 MB/s eta 0:00:15\n",
      "   ----------------------- ---------------- 22.8/38.6 MB 1.1 MB/s eta 0:00:15\n",
      "   ----------------------- ---------------- 22.8/38.6 MB 1.1 MB/s eta 0:00:15\n",
      "   ----------------------- ---------------- 23.1/38.6 MB 1.1 MB/s eta 0:00:14\n",
      "   ------------------------ --------------- 23.6/38.6 MB 1.1 MB/s eta 0:00:14\n",
      "   ------------------------ --------------- 23.9/38.6 MB 1.1 MB/s eta 0:00:14\n",
      "   ------------------------- -------------- 24.4/38.6 MB 1.1 MB/s eta 0:00:13\n",
      "   ------------------------- -------------- 24.6/38.6 MB 1.1 MB/s eta 0:00:13\n",
      "   ------------------------- -------------- 24.9/38.6 MB 1.1 MB/s eta 0:00:13\n",
      "   -------------------------- ------------- 25.2/38.6 MB 1.1 MB/s eta 0:00:12\n",
      "   -------------------------- ------------- 25.4/38.6 MB 1.2 MB/s eta 0:00:12\n",
      "   -------------------------- ------------- 25.7/38.6 MB 1.2 MB/s eta 0:00:12\n",
      "   -------------------------- ------------- 26.0/38.6 MB 1.2 MB/s eta 0:00:12\n",
      "   --------------------------- ------------ 26.2/38.6 MB 1.2 MB/s eta 0:00:11\n",
      "   --------------------------- ------------ 26.5/38.6 MB 1.2 MB/s eta 0:00:11\n",
      "   --------------------------- ------------ 26.7/38.6 MB 1.2 MB/s eta 0:00:11\n",
      "   --------------------------- ------------ 27.0/38.6 MB 1.2 MB/s eta 0:00:11\n",
      "   ---------------------------- ----------- 27.3/38.6 MB 1.2 MB/s eta 0:00:10\n",
      "   ---------------------------- ----------- 27.5/38.6 MB 1.2 MB/s eta 0:00:10\n",
      "   ---------------------------- ----------- 27.8/38.6 MB 1.2 MB/s eta 0:00:10\n",
      "   ---------------------------- ----------- 27.8/38.6 MB 1.2 MB/s eta 0:00:10\n",
      "   ----------------------------- ---------- 28.0/38.6 MB 1.2 MB/s eta 0:00:10\n",
      "   ----------------------------- ---------- 28.3/38.6 MB 1.1 MB/s eta 0:00:09\n",
      "   ----------------------------- ---------- 28.6/38.6 MB 1.1 MB/s eta 0:00:09\n",
      "   ----------------------------- ---------- 28.8/38.6 MB 1.2 MB/s eta 0:00:09\n",
      "   ------------------------------ --------- 29.4/38.6 MB 1.2 MB/s eta 0:00:09\n",
      "   ------------------------------ --------- 29.6/38.6 MB 1.2 MB/s eta 0:00:08\n",
      "   ------------------------------ --------- 29.9/38.6 MB 1.2 MB/s eta 0:00:08\n",
      "   ------------------------------- -------- 30.1/38.6 MB 1.2 MB/s eta 0:00:08\n",
      "   ------------------------------- -------- 30.4/38.6 MB 1.2 MB/s eta 0:00:08\n",
      "   ------------------------------- -------- 30.4/38.6 MB 1.2 MB/s eta 0:00:08\n",
      "   ------------------------------- -------- 30.7/38.6 MB 1.2 MB/s eta 0:00:07\n",
      "   -------------------------------- ------- 30.9/38.6 MB 1.1 MB/s eta 0:00:07\n",
      "   -------------------------------- ------- 30.9/38.6 MB 1.1 MB/s eta 0:00:07\n",
      "   -------------------------------- ------- 30.9/38.6 MB 1.1 MB/s eta 0:00:07\n",
      "   -------------------------------- ------- 31.2/38.6 MB 1.1 MB/s eta 0:00:07\n",
      "   -------------------------------- ------- 31.2/38.6 MB 1.1 MB/s eta 0:00:07\n",
      "   -------------------------------- ------- 31.5/38.6 MB 1.1 MB/s eta 0:00:07\n",
      "   -------------------------------- ------- 31.7/38.6 MB 1.1 MB/s eta 0:00:07\n",
      "   -------------------------------- ------- 31.7/38.6 MB 1.1 MB/s eta 0:00:07\n",
      "   --------------------------------- ------ 32.0/38.6 MB 1.1 MB/s eta 0:00:06\n",
      "   --------------------------------- ------ 32.0/38.6 MB 1.1 MB/s eta 0:00:06\n",
      "   --------------------------------- ------ 32.2/38.6 MB 1.1 MB/s eta 0:00:06\n",
      "   --------------------------------- ------ 32.2/38.6 MB 1.1 MB/s eta 0:00:06\n",
      "   --------------------------------- ------ 32.2/38.6 MB 1.1 MB/s eta 0:00:06\n",
      "   --------------------------------- ------ 32.5/38.6 MB 1.1 MB/s eta 0:00:06\n",
      "   --------------------------------- ------ 32.5/38.6 MB 1.1 MB/s eta 0:00:06\n",
      "   --------------------------------- ------ 32.5/38.6 MB 1.1 MB/s eta 0:00:06\n",
      "   --------------------------------- ------ 32.8/38.6 MB 1.1 MB/s eta 0:00:06\n",
      "   --------------------------------- ------ 32.8/38.6 MB 1.1 MB/s eta 0:00:06\n",
      "   ---------------------------------- ----- 33.0/38.6 MB 1.1 MB/s eta 0:00:06\n",
      "   ---------------------------------- ----- 33.3/38.6 MB 1.1 MB/s eta 0:00:05\n",
      "   ---------------------------------- ----- 33.3/38.6 MB 1.1 MB/s eta 0:00:05\n",
      "   ---------------------------------- ----- 33.6/38.6 MB 1.1 MB/s eta 0:00:05\n",
      "   ----------------------------------- ---- 33.8/38.6 MB 1.1 MB/s eta 0:00:05\n",
      "   ----------------------------------- ---- 33.8/38.6 MB 1.1 MB/s eta 0:00:05\n",
      "   ----------------------------------- ---- 34.1/38.6 MB 1.1 MB/s eta 0:00:05\n",
      "   ----------------------------------- ---- 34.1/38.6 MB 1.1 MB/s eta 0:00:05\n",
      "   ----------------------------------- ---- 34.1/38.6 MB 1.1 MB/s eta 0:00:05\n",
      "   ----------------------------------- ---- 34.3/38.6 MB 1.1 MB/s eta 0:00:05\n",
      "   ----------------------------------- ---- 34.3/38.6 MB 1.1 MB/s eta 0:00:05\n",
      "   ----------------------------------- ---- 34.3/38.6 MB 1.1 MB/s eta 0:00:05\n",
      "   ----------------------------------- ---- 34.6/38.6 MB 1.0 MB/s eta 0:00:04\n",
      "   ------------------------------------ --- 34.9/38.6 MB 1.0 MB/s eta 0:00:04\n",
      "   ------------------------------------ --- 35.1/38.6 MB 1.0 MB/s eta 0:00:04\n",
      "   ------------------------------------ --- 35.1/38.6 MB 1.0 MB/s eta 0:00:04\n",
      "   ------------------------------------ --- 35.4/38.6 MB 1.0 MB/s eta 0:00:04\n",
      "   ------------------------------------ --- 35.4/38.6 MB 1.0 MB/s eta 0:00:04\n",
      "   ------------------------------------ --- 35.7/38.6 MB 1.0 MB/s eta 0:00:03\n",
      "   ------------------------------------ --- 35.7/38.6 MB 1.0 MB/s eta 0:00:03\n",
      "   ------------------------------------- -- 35.9/38.6 MB 1.0 MB/s eta 0:00:03\n",
      "   ------------------------------------- -- 36.2/38.6 MB 1.0 MB/s eta 0:00:03\n",
      "   ------------------------------------- -- 36.2/38.6 MB 1.0 MB/s eta 0:00:03\n",
      "   ------------------------------------- -- 36.4/38.6 MB 1.0 MB/s eta 0:00:03\n",
      "   ------------------------------------- -- 36.4/38.6 MB 1.0 MB/s eta 0:00:03\n",
      "   ------------------------------------- -- 36.7/38.6 MB 1.0 MB/s eta 0:00:02\n",
      "   -------------------------------------- - 37.0/38.6 MB 999.8 kB/s eta 0:00:02\n",
      "   -------------------------------------- - 37.0/38.6 MB 999.8 kB/s eta 0:00:02\n",
      "   -------------------------------------- - 37.2/38.6 MB 1.0 MB/s eta 0:00:02\n",
      "   -------------------------------------- - 37.5/38.6 MB 998.2 kB/s eta 0:00:02\n",
      "   -------------------------------------- - 37.5/38.6 MB 998.2 kB/s eta 0:00:02\n",
      "   ---------------------------------------  37.7/38.6 MB 990.0 kB/s eta 0:00:01\n",
      "   ---------------------------------------  37.7/38.6 MB 990.0 kB/s eta 0:00:01\n",
      "   ---------------------------------------  37.7/38.6 MB 990.0 kB/s eta 0:00:01\n",
      "   ---------------------------------------  38.0/38.6 MB 974.0 kB/s eta 0:00:01\n",
      "   ---------------------------------------  38.0/38.6 MB 974.0 kB/s eta 0:00:01\n",
      "   ---------------------------------------  38.3/38.6 MB 961.2 kB/s eta 0:00:01\n",
      "   ---------------------------------------  38.3/38.6 MB 961.2 kB/s eta 0:00:01\n",
      "   ---------------------------------------  38.5/38.6 MB 948.2 kB/s eta 0:00:01\n",
      "   ---------------------------------------- 38.6/38.6 MB 942.0 kB/s  0:00:39\n",
      "Downloading threadpoolctl-3.6.0-py3-none-any.whl (18 kB)\n",
      "Installing collected packages: threadpoolctl, scipy, joblib, scikit-learn\n",
      "\n",
      "   ---------- ----------------------------- 1/4 [scipy]\n",
      "   ---------- ----------------------------- 1/4 [scipy]\n",
      "   ---------- ----------------------------- 1/4 [scipy]\n",
      "   ---------- ----------------------------- 1/4 [scipy]\n",
      "   ---------- ----------------------------- 1/4 [scipy]\n",
      "   ---------- ----------------------------- 1/4 [scipy]\n",
      "   ---------- ----------------------------- 1/4 [scipy]\n",
      "   ---------- ----------------------------- 1/4 [scipy]\n",
      "   ---------- ----------------------------- 1/4 [scipy]\n",
      "   ---------- ----------------------------- 1/4 [scipy]\n",
      "   ---------- ----------------------------- 1/4 [scipy]\n",
      "   ---------- ----------------------------- 1/4 [scipy]\n",
      "   ---------- ----------------------------- 1/4 [scipy]\n",
      "   ---------- ----------------------------- 1/4 [scipy]\n",
      "   ---------- ----------------------------- 1/4 [scipy]\n",
      "   ---------- ----------------------------- 1/4 [scipy]\n",
      "   ---------- ----------------------------- 1/4 [scipy]\n",
      "   ---------- ----------------------------- 1/4 [scipy]\n",
      "   ---------- ----------------------------- 1/4 [scipy]\n",
      "   ---------- ----------------------------- 1/4 [scipy]\n",
      "   ---------- ----------------------------- 1/4 [scipy]\n",
      "   ---------- ----------------------------- 1/4 [scipy]\n",
      "   ---------- ----------------------------- 1/4 [scipy]\n",
      "   ---------- ----------------------------- 1/4 [scipy]\n",
      "   ---------- ----------------------------- 1/4 [scipy]\n",
      "   ---------- ----------------------------- 1/4 [scipy]\n",
      "   ---------- ----------------------------- 1/4 [scipy]\n",
      "   ---------- ----------------------------- 1/4 [scipy]\n",
      "   ---------- ----------------------------- 1/4 [scipy]\n",
      "   ---------- ----------------------------- 1/4 [scipy]\n",
      "   ---------- ----------------------------- 1/4 [scipy]\n",
      "   ---------- ----------------------------- 1/4 [scipy]\n",
      "   ---------- ----------------------------- 1/4 [scipy]\n",
      "   ---------- ----------------------------- 1/4 [scipy]\n",
      "   ---------- ----------------------------- 1/4 [scipy]\n",
      "   ---------- ----------------------------- 1/4 [scipy]\n",
      "   ---------- ----------------------------- 1/4 [scipy]\n",
      "   ---------- ----------------------------- 1/4 [scipy]\n",
      "   ---------- ----------------------------- 1/4 [scipy]\n",
      "   ---------- ----------------------------- 1/4 [scipy]\n",
      "   ---------- ----------------------------- 1/4 [scipy]\n",
      "   ---------- ----------------------------- 1/4 [scipy]\n",
      "   ---------- ----------------------------- 1/4 [scipy]\n",
      "   ---------- ----------------------------- 1/4 [scipy]\n",
      "   ---------- ----------------------------- 1/4 [scipy]\n",
      "   ---------- ----------------------------- 1/4 [scipy]\n",
      "   ---------- ----------------------------- 1/4 [scipy]\n",
      "   ---------- ----------------------------- 1/4 [scipy]\n",
      "   ---------- ----------------------------- 1/4 [scipy]\n",
      "   ---------- ----------------------------- 1/4 [scipy]\n",
      "   ---------- ----------------------------- 1/4 [scipy]\n",
      "   ---------- ----------------------------- 1/4 [scipy]\n",
      "   ---------- ----------------------------- 1/4 [scipy]\n",
      "   ---------- ----------------------------- 1/4 [scipy]\n",
      "   ---------- ----------------------------- 1/4 [scipy]\n",
      "   ---------- ----------------------------- 1/4 [scipy]\n",
      "   ---------- ----------------------------- 1/4 [scipy]\n",
      "   ---------- ----------------------------- 1/4 [scipy]\n",
      "   ---------- ----------------------------- 1/4 [scipy]\n",
      "   ---------- ----------------------------- 1/4 [scipy]\n",
      "   ---------- ----------------------------- 1/4 [scipy]\n",
      "   ---------- ----------------------------- 1/4 [scipy]\n",
      "   ---------- ----------------------------- 1/4 [scipy]\n",
      "   ---------- ----------------------------- 1/4 [scipy]\n",
      "   ---------- ----------------------------- 1/4 [scipy]\n",
      "   ---------- ----------------------------- 1/4 [scipy]\n",
      "   ---------- ----------------------------- 1/4 [scipy]\n",
      "   ---------- ----------------------------- 1/4 [scipy]\n",
      "   ---------- ----------------------------- 1/4 [scipy]\n",
      "   ---------- ----------------------------- 1/4 [scipy]\n",
      "   ---------- ----------------------------- 1/4 [scipy]\n",
      "   ---------- ----------------------------- 1/4 [scipy]\n",
      "   ---------- ----------------------------- 1/4 [scipy]\n",
      "   ---------- ----------------------------- 1/4 [scipy]\n",
      "   ---------- ----------------------------- 1/4 [scipy]\n",
      "   ---------- ----------------------------- 1/4 [scipy]\n",
      "   ---------- ----------------------------- 1/4 [scipy]\n",
      "   ---------- ----------------------------- 1/4 [scipy]\n",
      "   ---------- ----------------------------- 1/4 [scipy]\n",
      "   ---------- ----------------------------- 1/4 [scipy]\n",
      "   ---------- ----------------------------- 1/4 [scipy]\n",
      "   ---------- ----------------------------- 1/4 [scipy]\n",
      "   ---------- ----------------------------- 1/4 [scipy]\n",
      "   ---------- ----------------------------- 1/4 [scipy]\n",
      "   ---------- ----------------------------- 1/4 [scipy]\n",
      "   ---------- ----------------------------- 1/4 [scipy]\n",
      "   ---------- ----------------------------- 1/4 [scipy]\n",
      "   ---------- ----------------------------- 1/4 [scipy]\n",
      "   ---------- ----------------------------- 1/4 [scipy]\n",
      "   ---------- ----------------------------- 1/4 [scipy]\n",
      "   ---------- ----------------------------- 1/4 [scipy]\n",
      "   ---------- ----------------------------- 1/4 [scipy]\n",
      "   ---------- ----------------------------- 1/4 [scipy]\n",
      "   ---------- ----------------------------- 1/4 [scipy]\n",
      "   ---------- ----------------------------- 1/4 [scipy]\n",
      "   ---------- ----------------------------- 1/4 [scipy]\n",
      "   ---------- ----------------------------- 1/4 [scipy]\n",
      "   ---------- ----------------------------- 1/4 [scipy]\n",
      "   ---------- ----------------------------- 1/4 [scipy]\n",
      "   ---------- ----------------------------- 1/4 [scipy]\n",
      "   ---------- ----------------------------- 1/4 [scipy]\n",
      "   ---------- ----------------------------- 1/4 [scipy]\n",
      "   ---------- ----------------------------- 1/4 [scipy]\n",
      "   ---------- ----------------------------- 1/4 [scipy]\n",
      "   ---------- ----------------------------- 1/4 [scipy]\n",
      "   ---------- ----------------------------- 1/4 [scipy]\n",
      "   ---------- ----------------------------- 1/4 [scipy]\n",
      "   ---------- ----------------------------- 1/4 [scipy]\n",
      "   ---------- ----------------------------- 1/4 [scipy]\n",
      "   ---------- ----------------------------- 1/4 [scipy]\n",
      "   ---------- ----------------------------- 1/4 [scipy]\n",
      "   ---------- ----------------------------- 1/4 [scipy]\n",
      "   ---------- ----------------------------- 1/4 [scipy]\n",
      "   ---------- ----------------------------- 1/4 [scipy]\n",
      "   ---------- ----------------------------- 1/4 [scipy]\n",
      "   ---------- ----------------------------- 1/4 [scipy]\n",
      "   ---------- ----------------------------- 1/4 [scipy]\n",
      "   ---------- ----------------------------- 1/4 [scipy]\n",
      "   ---------- ----------------------------- 1/4 [scipy]\n",
      "   ---------- ----------------------------- 1/4 [scipy]\n",
      "   ---------- ----------------------------- 1/4 [scipy]\n",
      "   ---------- ----------------------------- 1/4 [scipy]\n",
      "   ---------- ----------------------------- 1/4 [scipy]\n",
      "   ---------- ----------------------------- 1/4 [scipy]\n",
      "   ---------- ----------------------------- 1/4 [scipy]\n",
      "   ---------- ----------------------------- 1/4 [scipy]\n",
      "   ---------- ----------------------------- 1/4 [scipy]\n",
      "   ---------- ----------------------------- 1/4 [scipy]\n",
      "   ---------- ----------------------------- 1/4 [scipy]\n",
      "   ---------- ----------------------------- 1/4 [scipy]\n",
      "   ---------- ----------------------------- 1/4 [scipy]\n",
      "   ---------- ----------------------------- 1/4 [scipy]\n",
      "   ---------- ----------------------------- 1/4 [scipy]\n",
      "   ---------- ----------------------------- 1/4 [scipy]\n",
      "   ---------- ----------------------------- 1/4 [scipy]\n",
      "   ---------- ----------------------------- 1/4 [scipy]\n",
      "   ---------- ----------------------------- 1/4 [scipy]\n",
      "   ---------- ----------------------------- 1/4 [scipy]\n",
      "   ---------- ----------------------------- 1/4 [scipy]\n",
      "   ---------- ----------------------------- 1/4 [scipy]\n",
      "   -------------------- ------------------- 2/4 [joblib]\n",
      "   -------------------- ------------------- 2/4 [joblib]\n",
      "   -------------------- ------------------- 2/4 [joblib]\n",
      "   -------------------- ------------------- 2/4 [joblib]\n",
      "   -------------------- ------------------- 2/4 [joblib]\n",
      "   -------------------- ------------------- 2/4 [joblib]\n",
      "   -------------------- ------------------- 2/4 [joblib]\n",
      "   -------------------- ------------------- 2/4 [joblib]\n",
      "   -------------------- ------------------- 2/4 [joblib]\n",
      "   ------------------------------ --------- 3/4 [scikit-learn]\n",
      "   ------------------------------ --------- 3/4 [scikit-learn]\n",
      "   ------------------------------ --------- 3/4 [scikit-learn]\n",
      "   ------------------------------ --------- 3/4 [scikit-learn]\n",
      "   ------------------------------ --------- 3/4 [scikit-learn]\n",
      "   ------------------------------ --------- 3/4 [scikit-learn]\n",
      "   ------------------------------ --------- 3/4 [scikit-learn]\n",
      "   ------------------------------ --------- 3/4 [scikit-learn]\n",
      "   ------------------------------ --------- 3/4 [scikit-learn]\n",
      "   ------------------------------ --------- 3/4 [scikit-learn]\n",
      "   ------------------------------ --------- 3/4 [scikit-learn]\n",
      "   ------------------------------ --------- 3/4 [scikit-learn]\n",
      "   ------------------------------ --------- 3/4 [scikit-learn]\n",
      "   ------------------------------ --------- 3/4 [scikit-learn]\n",
      "   ------------------------------ --------- 3/4 [scikit-learn]\n",
      "   ------------------------------ --------- 3/4 [scikit-learn]\n",
      "   ------------------------------ --------- 3/4 [scikit-learn]\n",
      "   ------------------------------ --------- 3/4 [scikit-learn]\n",
      "   ------------------------------ --------- 3/4 [scikit-learn]\n",
      "   ------------------------------ --------- 3/4 [scikit-learn]\n",
      "   ------------------------------ --------- 3/4 [scikit-learn]\n",
      "   ------------------------------ --------- 3/4 [scikit-learn]\n",
      "   ------------------------------ --------- 3/4 [scikit-learn]\n",
      "   ------------------------------ --------- 3/4 [scikit-learn]\n",
      "   ------------------------------ --------- 3/4 [scikit-learn]\n",
      "   ------------------------------ --------- 3/4 [scikit-learn]\n",
      "   ------------------------------ --------- 3/4 [scikit-learn]\n",
      "   ------------------------------ --------- 3/4 [scikit-learn]\n",
      "   ------------------------------ --------- 3/4 [scikit-learn]\n",
      "   ------------------------------ --------- 3/4 [scikit-learn]\n",
      "   ------------------------------ --------- 3/4 [scikit-learn]\n",
      "   ------------------------------ --------- 3/4 [scikit-learn]\n",
      "   ------------------------------ --------- 3/4 [scikit-learn]\n",
      "   ------------------------------ --------- 3/4 [scikit-learn]\n",
      "   ------------------------------ --------- 3/4 [scikit-learn]\n",
      "   ------------------------------ --------- 3/4 [scikit-learn]\n",
      "   ------------------------------ --------- 3/4 [scikit-learn]\n",
      "   ------------------------------ --------- 3/4 [scikit-learn]\n",
      "   ------------------------------ --------- 3/4 [scikit-learn]\n",
      "   ------------------------------ --------- 3/4 [scikit-learn]\n",
      "   ------------------------------ --------- 3/4 [scikit-learn]\n",
      "   ------------------------------ --------- 3/4 [scikit-learn]\n",
      "   ------------------------------ --------- 3/4 [scikit-learn]\n",
      "   ------------------------------ --------- 3/4 [scikit-learn]\n",
      "   ------------------------------ --------- 3/4 [scikit-learn]\n",
      "   ------------------------------ --------- 3/4 [scikit-learn]\n",
      "   ------------------------------ --------- 3/4 [scikit-learn]\n",
      "   ------------------------------ --------- 3/4 [scikit-learn]\n",
      "   ------------------------------ --------- 3/4 [scikit-learn]\n",
      "   ------------------------------ --------- 3/4 [scikit-learn]\n",
      "   ------------------------------ --------- 3/4 [scikit-learn]\n",
      "   ------------------------------ --------- 3/4 [scikit-learn]\n",
      "   ------------------------------ --------- 3/4 [scikit-learn]\n",
      "   ------------------------------ --------- 3/4 [scikit-learn]\n",
      "   ------------------------------ --------- 3/4 [scikit-learn]\n",
      "   ------------------------------ --------- 3/4 [scikit-learn]\n",
      "   ------------------------------ --------- 3/4 [scikit-learn]\n",
      "   ------------------------------ --------- 3/4 [scikit-learn]\n",
      "   ------------------------------ --------- 3/4 [scikit-learn]\n",
      "   ------------------------------ --------- 3/4 [scikit-learn]\n",
      "   ------------------------------ --------- 3/4 [scikit-learn]\n",
      "   ------------------------------ --------- 3/4 [scikit-learn]\n",
      "   ------------------------------ --------- 3/4 [scikit-learn]\n",
      "   ------------------------------ --------- 3/4 [scikit-learn]\n",
      "   ------------------------------ --------- 3/4 [scikit-learn]\n",
      "   ------------------------------ --------- 3/4 [scikit-learn]\n",
      "   ------------------------------ --------- 3/4 [scikit-learn]\n",
      "   ------------------------------ --------- 3/4 [scikit-learn]\n",
      "   ------------------------------ --------- 3/4 [scikit-learn]\n",
      "   ------------------------------ --------- 3/4 [scikit-learn]\n",
      "   ------------------------------ --------- 3/4 [scikit-learn]\n",
      "   ------------------------------ --------- 3/4 [scikit-learn]\n",
      "   ------------------------------ --------- 3/4 [scikit-learn]\n",
      "   ------------------------------ --------- 3/4 [scikit-learn]\n",
      "   ------------------------------ --------- 3/4 [scikit-learn]\n",
      "   ------------------------------ --------- 3/4 [scikit-learn]\n",
      "   ------------------------------ --------- 3/4 [scikit-learn]\n",
      "   ------------------------------ --------- 3/4 [scikit-learn]\n",
      "   ------------------------------ --------- 3/4 [scikit-learn]\n",
      "   ------------------------------ --------- 3/4 [scikit-learn]\n",
      "   ------------------------------ --------- 3/4 [scikit-learn]\n",
      "   ------------------------------ --------- 3/4 [scikit-learn]\n",
      "   ---------------------------------------- 4/4 [scikit-learn]\n",
      "\n",
      "Successfully installed joblib-1.5.1 scikit-learn-1.7.1 scipy-1.16.1 threadpoolctl-3.6.0\n"
     ]
    }
   ],
   "source": [
    "!pip install scikit-learn\n"
   ]
  },
  {
   "cell_type": "code",
   "execution_count": 65,
   "id": "52f67457-1978-4aaf-9936-807cb7b34acc",
   "metadata": {},
   "outputs": [
    {
     "name": "stdout",
     "output_type": "stream",
     "text": [
      "Potential restaurant chains in the dataset:\n",
      "Restaurant Name\n",
      "Cafe Coffee Day        83\n",
      "Domino's Pizza         79\n",
      "Subway                 63\n",
      "Green Chick Chop       51\n",
      "McDonald's             48\n",
      "Keventers              34\n",
      "Pizza Hut              30\n",
      "Giani                  29\n",
      "Baskin Robbins         28\n",
      "Barbeque Nation        26\n",
      "Dunkin' Donuts         22\n",
      "Barista                22\n",
      "Giani's                22\n",
      "Pind Balluchi          20\n",
      "Costa Coffee           20\n",
      "Wah Ji Wah             19\n",
      "Pizza Hut Delivery     19\n",
      "Sagar Ratna            19\n",
      "Twenty Four Seven      19\n",
      "Republic of Chicken    18\n",
      "Name: count, dtype: int64\n"
     ]
    }
   ],
   "source": [
    "restaurant_counts = df[\"Restaurant Name\"].value_counts()\n",
    "\n",
    "# Filter restaurants that appear more than once (chains)\n",
    "chains = restaurant_counts[restaurant_counts > 1]\n",
    "\n",
    "print(\"Potential restaurant chains in the dataset:\")\n",
    "print(chains.head(20)) "
   ]
  },
  {
   "cell_type": "code",
   "execution_count": 66,
   "id": "c6993cba-8f97-4dc1-a8e3-1a020424e4bb",
   "metadata": {},
   "outputs": [
    {
     "name": "stdout",
     "output_type": "stream",
     "text": [
      "Analysis of Restaurant Chains (Top 15 by Avg Rating):\n",
      "                           Outlets  Avg_Rating  Total_Votes  Avg_Votes\n",
      "Restaurant Name                                                       \n",
      "Talaga Sampireun                 3        4.90         5514    1838.00\n",
      "Silantro Fil-Mex                 2        4.85         1364     682.00\n",
      "AB's Absolute Barbecues          2        4.85         3151    1575.50\n",
      "AB's - Absolute Barbecues        4        4.82        13400    3350.00\n",
      "Naturals Ice Cream               2        4.80         3094    1547.00\n",
      "Gymkhana                         2        4.70          328     164.00\n",
      "The Cheesecake Factory           2        4.65         3010    1505.00\n",
      "Garota de Ipanema                2        4.60           59      29.50\n",
      "Dishoom                          2        4.60         1269     634.50\n",
      "Chili's                          5        4.58         8156    1631.20\n",
      "Coco Bambu                       2        4.55           47      23.50\n",
      "Twigly                           2        4.55          471     235.50\n",
      "Onesta                           3        4.50         2821     940.33\n",
      "Natural Ice Cream                2        4.50          732     366.00\n",
      "Big Chill                        4        4.47        10853    2713.25\n"
     ]
    }
   ],
   "source": [
    "\n",
    "df[\"Aggregate rating\"] = pd.to_numeric(df[\"Aggregate rating\"], errors=\"coerce\")\n",
    "df[\"Votes\"] = pd.to_numeric(df[\"Votes\"], errors=\"coerce\")\n",
    "restaurant_counts = df[\"Restaurant Name\"].value_counts()\n",
    "chains = restaurant_counts[restaurant_counts > 1].index\n",
    "chain_analysis = (\n",
    "    df[df[\"Restaurant Name\"].isin(chains)]\n",
    "    .groupby(\"Restaurant Name\")\n",
    "    .agg(\n",
    "        Outlets=(\"Restaurant Name\", \"count\"),\n",
    "        Avg_Rating=(\"Aggregate rating\", \"mean\"),\n",
    "        Total_Votes=(\"Votes\", \"sum\"),\n",
    "        Avg_Votes=(\"Votes\", \"mean\")\n",
    "    )\n",
    "    .sort_values(by=\"Avg_Rating\", ascending=False)\n",
    "    .round(2)\n",
    ")\n",
    "\n",
    "print(\"Analysis of Restaurant Chains (Top 15 by Avg Rating):\")\n",
    "print(chain_analysis.head(15))\n"
   ]
  },
  {
   "cell_type": "markdown",
   "id": "e42bcc4c-f4e3-4dfb-8c92-6cb93b0a6e8d",
   "metadata": {},
   "source": [
    "#Task: Votes Analysis"
   ]
  },
  {
   "cell_type": "markdown",
   "id": "e0def64f-2f88-4935-b2fc-ff71945470f0",
   "metadata": {},
   "source": [
    "#Identify the restaurants with the highest and lowest number of votes.\n"
   ]
  },
  {
   "cell_type": "code",
   "execution_count": 69,
   "id": "cee3d3fe-872f-4cdd-8129-84193420d649",
   "metadata": {},
   "outputs": [
    {
     "name": "stdout",
     "output_type": "stream",
     "text": [
      "Restaurant with highest votes:\n",
      "Restaurant Name         Toit\n",
      "City               Bangalore\n",
      "Votes                  10934\n",
      "Name: 728, dtype: object\n",
      "\n",
      "Restaurant with lowest votes:\n",
      "Restaurant Name    Cantinho da Gula\n",
      "City                     S��o Paulo\n",
      "Votes                             0\n",
      "Name: 69, dtype: object\n"
     ]
    }
   ],
   "source": [
    "df[\"Votes\"] = pd.to_numeric(df[\"Votes\"], errors=\"coerce\")\n",
    "\n",
    "\n",
    "highest_votes = df.loc[df[\"Votes\"].idxmax(), [\"Restaurant Name\", \"City\", \"Votes\"]]\n",
    "\n",
    "lowest_votes = df.loc[df[\"Votes\"].idxmin(), [\"Restaurant Name\", \"City\", \"Votes\"]]\n",
    "\n",
    "print(\"Restaurant with highest votes:\")\n",
    "print(highest_votes)\n",
    "\n",
    "print(\"\\nRestaurant with lowest votes:\")\n",
    "print(lowest_votes)\n"
   ]
  },
  {
   "cell_type": "markdown",
   "id": "4cb105df-4949-4418-b779-025f476c08bb",
   "metadata": {},
   "source": [
    "#Analyze if there is a correlation between the number of votes and the rating of a restaurant.\n"
   ]
  },
  {
   "cell_type": "code",
   "execution_count": null,
   "id": "15858065-cbef-4b70-acb7-7810b7b84e53",
   "metadata": {},
   "outputs": [],
   "source": [
    "df[\"Aggregate rating\"] = pd.to_numeric(df[\"Aggregate rating\"], errors=\"coerce\")\n",
    "df[\"Votes\"] = pd.to_numeric(df[\"Votes\"], errors=\"coerce\")\n",
    "df_clean = df.dropna(subset=[\"Aggregate rating\", \"Votes\"])\n",
    "correlation = df_clean[\"Aggregate rating\"].corr(df_clean[\"Votes\"])\n",
    "print(f\"Correlation between votes and rating: {correlation:.2f}\")\n",
    "plt.figure(figsize=(8,6))\n",
    "plt.scatter(df_clean[\"Votes\"], df_clean[\"Aggregate rating\"], alpha=0.5, c=\"blue\")\n",
    "plt.xlabel(\"Number of Votes\")\n",
    "plt.ylabel(\"Aggregate Rating\")\n",
    "plt.title(\"Correlation between Votes and Ratings\")\n",
    "plt.show()\n"
   ]
  },
  {
   "cell_type": "markdown",
   "id": "7004eac5-7a4b-4713-8de5-fe9dad86e22a",
   "metadata": {},
   "source": [
    "#Task: Price Range vs. Online Delivery and Table Booking\n"
   ]
  },
  {
   "cell_type": "markdown",
   "id": "808a5021-c982-45b5-82e8-58f1338bad9f",
   "metadata": {},
   "source": [
    "#Analyze if there is a relationship between the price range and the availability of online delivery and table booking.\n"
   ]
  },
  {
   "cell_type": "code",
   "execution_count": 74,
   "id": "7df0549d-760d-48e9-92ca-d6db854fc8b1",
   "metadata": {},
   "outputs": [
    {
     "name": "stdout",
     "output_type": "stream",
     "text": [
      "Price Range vs Online Delivery (%):\n",
      "Has Online delivery         No        Yes\n",
      "Price range                              \n",
      "1                    84.225923  15.774077\n",
      "2                    58.689367  41.310633\n",
      "3                    70.809659  29.190341\n",
      "4                    90.955631   9.044369\n",
      "\n",
      "Price Range vs Table Booking (%):\n",
      "Has Table booking         No        Yes\n",
      "Price range                            \n",
      "1                  99.977498   0.022502\n",
      "2                  92.322518   7.677482\n",
      "3                  54.261364  45.738636\n",
      "4                  53.242321  46.757679\n",
      "\n",
      "Chi-square statistic (Online Delivery): 721.38\n",
      "Chi-square statistic (Table Booking): 2821.58\n"
     ]
    }
   ],
   "source": [
    "\n",
    "df[\"Has Online delivery\"] = df[\"Has Online delivery\"].str.strip()\n",
    "df[\"Has Table booking\"] = df[\"Has Table booking\"].str.strip()\n",
    "\n",
    "online_delivery_ct = pd.crosstab(df[\"Price range\"], df[\"Has Online delivery\"], normalize=\"index\") * 100\n",
    "table_booking_ct = pd.crosstab(df[\"Price range\"], df[\"Has Table booking\"], normalize=\"index\") * 100\n",
    "\n",
    "print(\"Price Range vs Online Delivery (%):\")\n",
    "print(online_delivery_ct)\n",
    "\n",
    "print(\"\\nPrice Range vs Table Booking (%):\")\n",
    "print(table_booking_ct)\n",
    "def chi_square_test(table):\n",
    "    observed = table.values\n",
    "    expected = np.outer(table.sum(axis=1), table.sum(axis=0)) / table.values.sum()\n",
    "    chi2 = ((observed - expected) ** 2 / expected).sum()\n",
    "    return chi2\n",
    "online_delivery_table = pd.crosstab(df[\"Price range\"], df[\"Has Online delivery\"])\n",
    "table_booking_table = pd.crosstab(df[\"Price range\"], df[\"Has Table booking\"])\n",
    "\n",
    "chi2_online = chi_square_test(online_delivery_table)\n",
    "chi2_table = chi_square_test(table_booking_table)\n",
    "\n",
    "print(f\"\\nChi-square statistic (Online Delivery): {chi2_online:.2f}\")\n",
    "print(f\"Chi-square statistic (Table Booking): {chi2_table:.2f}\")\n"
   ]
  },
  {
   "cell_type": "markdown",
   "id": "0b109b02-c7dd-460a-9f48-3056f53e49f0",
   "metadata": {},
   "source": [
    "#Determine if higher-priced restaurants are more likely to offer these services."
   ]
  },
  {
   "cell_type": "code",
   "execution_count": 76,
   "id": "e24c3d9c-db15-4f59-ada5-b4d7895ab0b3",
   "metadata": {},
   "outputs": [
    {
     "name": "stdout",
     "output_type": "stream",
     "text": [
      "Price Range vs Online Delivery (%):\n",
      "Has Online delivery         No        Yes\n",
      "Price range                              \n",
      "1                    84.225923  15.774077\n",
      "2                    58.689367  41.310633\n",
      "3                    70.809659  29.190341\n",
      "4                    90.955631   9.044369\n",
      "\n",
      "Price Range vs Table Booking (%):\n",
      "Has Table booking         No        Yes\n",
      "Price range                            \n",
      "1                  99.977498   0.022502\n",
      "2                  92.322518   7.677482\n",
      "3                  54.261364  45.738636\n",
      "4                  53.242321  46.757679\n"
     ]
    },
    {
     "data": {
      "image/png": "[encoded data removed]",
      "text/plain": [
       "<Figure size 1200x500 with 2 Axes>"
      ]
     },
     "metadata": {},
     "output_type": "display_data"
    }
   ],
   "source": [
    "\n",
    "df[\"Has Online delivery\"] = df[\"Has Online delivery\"].str.strip()\n",
    "df[\"Has Table booking\"] = df[\"Has Table booking\"].str.strip()\n",
    "\n",
    "online_delivery_pct = pd.crosstab(df[\"Price range\"], df[\"Has Online delivery\"], normalize=\"index\") * 100\n",
    "table_booking_pct = pd.crosstab(df[\"Price range\"], df[\"Has Table booking\"], normalize=\"index\") * 100\n",
    "\n",
    "print(\"Price Range vs Online Delivery (%):\")\n",
    "print(online_delivery_pct)\n",
    "\n",
    "print(\"\\nPrice Range vs Table Booking (%):\")\n",
    "print(table_booking_pct)\n",
    "\n",
    "fig, axes = plt.subplots(1, 2, figsize=(12,5))\n",
    "\n",
    "online_delivery_pct.plot(kind=\"bar\", stacked=True, ax=axes[0])\n",
    "axes[0].set_title(\"Online Delivery by Price Range\")\n",
    "axes[0].set_ylabel(\"Percentage\")\n",
    "axes[0].legend(title=\"Online Delivery\")\n",
    "\n",
    "table_booking_pct.plot(kind=\"bar\", stacked=True, ax=axes[1])\n",
    "axes[1].set_title(\"Table Booking by Price Range\")\n",
    "axes[1].set_ylabel(\"Percentage\")\n",
    "axes[1].legend(title=\"Table Booking\")\n",
    "\n",
    "plt.tight_layout()\n",
    "plt.show()\n"
   ]
  }
 ],
 "metadata": {
  "kernelspec": {
   "display_name": "Python 3 (ipykernel)",
   "language": "python",
   "name": "python3"
  },
  "language_info": {
   "codemirror_mode": {
    "name": "ipython",
    "version": 3
   },
   "file_extension": ".py",
   "mimetype": "text/x-python",
   "name": "python",
   "nbconvert_exporter": "python",
   "pygments_lexer": "ipython3",
   "version": "3.12.6"
  }
 },
 "nbformat": 4,
 "nbformat_minor": 5
}
